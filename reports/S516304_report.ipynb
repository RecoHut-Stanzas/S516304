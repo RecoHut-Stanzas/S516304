{
  "cells": [
    {
      "cell_type": "markdown",
      "source": [
        "# CTR Models in PyTorch\n",
        "Click-through rate (CTR) prediction is a critical task for many applications, as its accuracy has a direct impact on user experience and platform revenue. In recent years, CTR prediction has been widely studied in both academia and industry, resulting in a wide variety of CTR prediction models.\n",
        "\n",
        "We will analyze 25+ of such CTR models, from the lens of RecSys and also go through a short tutorial of training 3 CTR models on a small toy dataset from TaoBao eCommerce platform.\n",
        "\n",
        "## Models\n",
        "\n",
        "| Model | Paper | Publication |\n",
        "| --- | --- | --- |\n",
        "| LR | Predicting Clicks: Estimating the Click-Through Rate for New Ads | WWW'07 |\n",
        "| FM | Factorization Machines | ICDM'10 |\n",
        "| CCPM | A Convolutional Click Prediction Model | CIKM'15 |\n",
        "| FFM | Field-aware Factorization Machines for CTR Prediction | RecSys'16 |\n",
        "| YoutubeDNN | Deep Neural Networks for YouTube Recommendations | RecSys'16 |\n",
        "| Wide&Deep | Wide & Deep Learning for Recommender Systems | DLRS'16 |\n",
        "| IPNN | Product-based Neural Networks for User Response Prediction | ICDM'16 |\n",
        "| DeepCross | Deep Crossing: Web-Scale Modeling without Manually Crafted Combinatorial Features | KDD'16 |\n",
        "| HOFM | Higher-Order Factorization Machines | NIPS'16 |\n",
        "| DeepFM | DeepFM: A Factorization-Machine based Neural Network for CTR Prediction | IJCAI'17 |\n",
        "| NFM | Neural Factorization Machines for Sparse Predictive Analytics | SIGIR'17 |\n",
        "| AFM | Attentional Factorization Machines: Learning the Weight of Feature Interactions via Attention Networks | IJCAI'17 |\n",
        "| DCN | Deep & Cross Network for Ad Click Predictions | ADKDD'17 |\n",
        "| FwFM | Field-weighted Factorization Machines for Click-Through Rate Prediction in Display Advertising | WWW'18 |\n",
        "| xDeepFM | xDeepFM: Combining Explicit and Implicit Feature Interactions for Recommender Systems | KDD'18 |\n",
        "| DIN | Deep Interest Network for Click-Through Rate Prediction | KDD'18 |\n",
        "| FiGNN | FiGNN: Modeling Feature Interactions via Graph Neural Networks for CTR Prediction | CIKM'19 |\n",
        "| AutoInt/AutoInt+ | AutoInt: Automatic Feature Interaction Learning via Self-Attentive Neural Networks | CIKM'19 |\n",
        "| FiBiNET | FiBiNET: Combining Feature Importance and Bilinear feature Interaction for Click-Through Rate Prediction | RecSys'19 |\n",
        "| FGCNN | Feature Generation by Convolutional Neural Network for Click-Through Rate Prediction | WWW'19 |\n",
        "| HFM/HFM+ | Holographic Factorization Machines for Recommendation | AAAI'19 |\n",
        "| ONN | Operation-aware Neural Networks for User Response Prediction | Neural Networks'20 |\n",
        "| AFN/AFN+ | Adaptive Factorization Network: Learning Adaptive-Order Feature Interactions | AAAI'20 |\n",
        "| LorentzFM | Learning Feature Interactions with Lorentzian Factorization | AAAI'20 |\n",
        "| InterHAt | Interpretable Click-through Rate Prediction through Hierarchical Attention | WSDM'20 |\n",
        "| FLEN | FLEN: Leveraging Field for Scalable CTR Prediction | DLP-KDD'20 |\n",
        "| FmFM | FM^2: Field-matrixed Factorization Machines for Recommender Systems | WWW'21 |\n",
        "\n",
        "## Process Flow\n",
        "\n",
        "![https://github.com/RecoHut-Stanzas/S516304/raw/main/images/process_flow_extended.svg](https://github.com/RecoHut-Stanzas/S516304/raw/main/images/process_flow_extended.svg)\n",
        "\n",
        "## Tutorials\n",
        "\n",
        "### Comparing DCN, DeepFM and xDeepFM in PyTorch\n",
        "\n",
        "[Link to notebook →](https://github.com/RecoHut-Stanzas/S516304/blob/main/nbs/P416760_Comparing_DCN%2C_DeepFM_and_xDeepFM_in_PyTorch.ipynb)\n",
        "\n",
        "![https://github.com/RecoHut-Stanzas/S516304/raw/main/images/process_flow.svg](https://github.com/RecoHut-Stanzas/S516304/raw/main/images/process_flow.svg)\n",
        "\n",
        "## Links and Referenes\n",
        "\n",
        "1. [https://arxiv.org/abs/2009.05794](https://arxiv.org/abs/2009.05794)\n",
        "2. [https://github.com/xue-pai/FuxiCTR](https://github.com/xue-pai/FuxiCTR)\n",
        "3. [https://github.com/RecoHut-Stanzas/S516304](https://github.com/RecoHut-Stanzas/S516304)"
      ],
      "metadata": {
        "id": "lIYdn1woOS1n"
      }
    }
  ],
  "metadata": {
    "colab": {
      "name": "scratchpad",
      "provenance": []
    },
    "kernelspec": {
      "display_name": "Python 3",
      "name": "python3"
    }
  },
  "nbformat": 4,
  "nbformat_minor": 0
}